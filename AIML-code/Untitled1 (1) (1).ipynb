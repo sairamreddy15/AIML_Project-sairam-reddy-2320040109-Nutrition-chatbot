{
  "nbformat": 4,
  "nbformat_minor": 0,
  "metadata": {
    "colab": {
      "provenance": []
    },
    "kernelspec": {
      "name": "python3",
      "display_name": "Python 3"
    },
    "language_info": {
      "name": "python"
    }
  },
  "cells": [
    {
      "cell_type": "code",
      "execution_count": 2,
      "metadata": {
        "colab": {
          "base_uri": "https://localhost:8080/"
        },
        "id": "Mrv7jxViOdoG",
        "outputId": "9f5ae918-fd2b-4265-d88e-1997f33858ed"
      },
      "outputs": [
        {
          "output_type": "stream",
          "name": "stdout",
          "text": [
            "Solution found:\n",
            "Vertex 0: Color 1\n",
            "Vertex 1: Color 2\n",
            "Vertex 2: Color 1\n",
            "Vertex 3: Color 3\n",
            "Vertex 4: Color 2\n"
          ]
        }
      ],
      "source": [
        "def is_valid(graph, assigned_colors, vertex, chosen_color):\n",
        "  for adjacent in graph[vertex]:\n",
        "    if assigned_colors[adjacent] == chosen_color:\n",
        "      return False\n",
        "  return True\n",
        "\n",
        "def color_graph(graph, max_colors):\n",
        "  color_assignments = [-1] * len(graph)\n",
        "  if color_graph_util(graph, max_colors, color_assignments, 0):\n",
        "    return color_assignments\n",
        "  else:\n",
        "    return None\n",
        "\n",
        "def color_graph_util(graph, max_colors, color_assignments, vertex):\n",
        "  if vertex == len(graph):\n",
        "    return True\n",
        "  for color in range(1, max_colors + 1):\n",
        "    if is_valid(graph, color_assignments, vertex, color):\n",
        "      color_assignments[vertex] = color\n",
        "      if color_graph_util(graph, max_colors, color_assignments, vertex + 1):\n",
        "        return True\n",
        "      color_assignments[vertex] = -1\n",
        "  return False\n",
        "\n",
        "graph = {\n",
        "    0: [1, 4],\n",
        "    1: [0, 2, 3],\n",
        "    2: [1, 3],\n",
        "    3: [1, 2, 4],\n",
        "    4: [0, 3]\n",
        "}\n",
        "\n",
        "max_colors = 3\n",
        "\n",
        "assigned_colors = color_graph(graph, max_colors)\n",
        "if assigned_colors:\n",
        "  print(\"Solution found:\")\n",
        "  for i, color in enumerate(assigned_colors):\n",
        "    print(f\"Vertex {i}: Color {color}\")\n",
        "else:\n",
        "  print(\"No solution found.\")\n"
      ]
    }
  ]
}